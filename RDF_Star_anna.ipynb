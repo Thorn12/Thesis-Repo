{
 "cells": [
  {
   "cell_type": "markdown",
   "id": "394c440c-0ab6-44df-82e6-54b841a2d900",
   "metadata": {
    "tags": []
   },
   "source": [
    "Anna Test RDF Star Trial"
   ]
  },
  {
   "cell_type": "markdown",
   "id": "d615f2bb-05c2-4044-854a-e9e08b11eaf9",
   "metadata": {
    "tags": []
   },
   "source": [
    "Interpretation of how the RDF Star should be structured\n",
    "Pseudo Code\n",
    "\n",
    "Person-99999999 or in other words Anna has 7 different descriptions about her, that means she's the proxy for all the named graphs\n",
    "\n",
    "Set every description up as a named graph."
   ]
  },
  {
   "cell_type": "code",
   "execution_count": 4,
   "id": "058c47cb-e7f2-4b85-b4ce-77e38b341645",
   "metadata": {
    "tags": []
   },
   "outputs": [
    {
     "name": "stdout",
     "output_type": "stream",
     "text": [
      "Requirement already satisfied: rdflib in c:\\users\\cjtya\\appdata\\local\\programs\\python\\python311\\lib\\site-packages (6.3.2)\n",
      "Requirement already satisfied: isodate<0.7.0,>=0.6.0 in c:\\users\\cjtya\\appdata\\local\\programs\\python\\python311\\lib\\site-packages (from rdflib) (0.6.1)\n",
      "Requirement already satisfied: pyparsing<4,>=2.1.0 in c:\\users\\cjtya\\appdata\\local\\programs\\python\\python311\\lib\\site-packages (from rdflib) (3.0.9)\n",
      "Requirement already satisfied: six in c:\\users\\cjtya\\appdata\\local\\programs\\python\\python311\\lib\\site-packages (from isodate<0.7.0,>=0.6.0->rdflib) (1.16.0)\n",
      "Note: you may need to restart the kernel to use updated packages.\n"
     ]
    }
   ],
   "source": [
    "pip install rdflib"
   ]
  },
  {
   "cell_type": "code",
   "execution_count": 3,
   "id": "8b4b8f84-a19f-4475-a08f-a14212b3653b",
   "metadata": {
    "tags": []
   },
   "outputs": [],
   "source": [
    "from rdflib import URIRef, BNode, Literal, Namespace, Graph\n",
    "from rdflib.namespace import FOAF, DCTERMS, XSD, RDF, SDO\n",
    "\n",
    "EX = Namespace('http://example.org/')\n",
    "anna = EX['Anna']\n",
    "\n",
    "#This cell sets up the proxy for Anna"
   ]
  },
  {
   "cell_type": "code",
   "execution_count": 18,
   "id": "153cf9ed-ff58-48e2-b8fd-d33ad363593b",
   "metadata": {
    "tags": []
   },
   "outputs": [
    {
     "data": {
      "text/plain": [
       "<Graph identifier=N8e268fb7ec5147c4a500539fbb307de0 (<class 'rdflib.graph.Graph'>)>"
      ]
     },
     "execution_count": 18,
     "metadata": {},
     "output_type": "execute_result"
    }
   ],
   "source": [
    "g = Graph()\n",
    "\n",
    "g.add((anna, RDF.type, FOAF.Person))\n",
    "#g.add(((anna, EX.has_faith, EX.Rooms_Katholiek), RDF.type, EX.faith))\n",
    "#g.add(((anna, EX.has_nationality, EX.dutch), RDF.type, EX.nationality))\n",
    "#g.add(((anna, EX.has_education, EX.gymnasium), RDF.type, EX.education))\n",
    "#g.add((((anna, EX.has_education, EX.Beeldende_kunsten_en_vormgeving), RDF.type, EX.education))\n",
    "#g.add((((anna, EX.has_education, EX.Nederlands_recht), RDF.type, EX.education))\n",
    "#g.add((((anna, EX.has_residence, EX.Den_Haag), RDF.type, EX.Residence))\n",
    "#g.add(((anna, EX.has_gender, EX.Female), RDF.type, EX.Gender))\n",
    "#g.add(((anna, EX.brought_to_life, '1699'), RDF.type, EX.Birth))\n"
   ]
  },
  {
   "cell_type": "code",
   "execution_count": null,
   "id": "db68d120-0f76-461e-87dc-3145763c3a54",
   "metadata": {},
   "outputs": [],
   "source": []
  },
  {
   "cell_type": "code",
   "execution_count": null,
   "id": "4c896ac2-5357-4b0a-996f-65907afb0466",
   "metadata": {},
   "outputs": [],
   "source": []
  }
 ],
 "metadata": {
  "kernelspec": {
   "display_name": "Python 3 (ipykernel)",
   "language": "python",
   "name": "python3"
  },
  "language_info": {
   "codemirror_mode": {
    "name": "ipython",
    "version": 3
   },
   "file_extension": ".py",
   "mimetype": "text/x-python",
   "name": "python",
   "nbconvert_exporter": "python",
   "pygments_lexer": "ipython3",
   "version": "3.11.1"
  }
 },
 "nbformat": 4,
 "nbformat_minor": 5
}
