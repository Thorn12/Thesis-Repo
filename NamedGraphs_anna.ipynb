{
 "cells": [
  {
   "cell_type": "markdown",
   "id": "25785897-b16f-4e5a-8b72-4925a9f70ffa",
   "metadata": {},
   "source": [
    "Anna Test Named Graphs Trial"
   ]
  },
  {
   "cell_type": "markdown",
   "id": "96b2a92d-1fe1-4d72-ae99-dfaf1060ef98",
   "metadata": {
    "tags": []
   },
   "source": [
    "Interpretation of how the named graphs should be structured/ \n",
    "Pseudo Code\n",
    "\n",
    "Person-99999999 or in other words Anna has 7 different descriptions about her, that means she's the proxy for all the named graphs\n",
    "\n",
    "Set every description up as a named graph."
   ]
  },
  {
   "cell_type": "code",
   "execution_count": 1,
   "id": "f99b33ba-9127-442c-a626-0d66537a4487",
   "metadata": {
    "tags": []
   },
   "outputs": [
    {
     "name": "stdout",
     "output_type": "stream",
     "text": [
      "Requirement already satisfied: rdflib in c:\\users\\cjtya\\appdata\\local\\programs\\python\\python311\\lib\\site-packages (6.3.2)\n",
      "Requirement already satisfied: isodate<0.7.0,>=0.6.0 in c:\\users\\cjtya\\appdata\\local\\programs\\python\\python311\\lib\\site-packages (from rdflib) (0.6.1)\n",
      "Requirement already satisfied: pyparsing<4,>=2.1.0 in c:\\users\\cjtya\\appdata\\local\\programs\\python\\python311\\lib\\site-packages (from rdflib) (3.0.9)\n",
      "Requirement already satisfied: six in c:\\users\\cjtya\\appdata\\local\\programs\\python\\python311\\lib\\site-packages (from isodate<0.7.0,>=0.6.0->rdflib) (1.16.0)\n",
      "Note: you may need to restart the kernel to use updated packages.\n"
     ]
    }
   ],
   "source": [
    "pip install rdflib"
   ]
  },
  {
   "cell_type": "code",
   "execution_count": 2,
   "id": "548040bb-da89-4a6d-a433-5aef22d7371c",
   "metadata": {
    "tags": []
   },
   "outputs": [],
   "source": [
    "from rdflib import URIRef, BNode, Literal, Namespace, Graph\n",
    "from rdflib.namespace import FOAF, DCTERMS, XSD, RDF, SDO\n",
    "\n",
    "EX = Namespace('http://example.org/')\n",
    "anna = EX['Anna']\n",
    "\n",
    "#This cell sets up the proxy for Anna"
   ]
  },
  {
   "cell_type": "code",
   "execution_count": 5,
   "id": "de5841d4-5fad-413c-87d1-358f4bbac83c",
   "metadata": {
    "tags": []
   },
   "outputs": [
    {
     "data": {
      "text/plain": [
       "<Graph identifier=N1612c3679f5a48f39e0b2daaf287580f (<class 'rdflib.graph.Graph'>)>"
      ]
     },
     "execution_count": 5,
     "metadata": {},
     "output_type": "execute_result"
    }
   ],
   "source": [
    "ng1 = Graph()\n",
    "\n",
    "ng1.add((anna, RDF.type, FOAF.Person))\n",
    "ng1.add((EX.Rooms_Katholiek, RDF.type, EX.faith))\n",
    "ng1.add((anna, EX.has_faith, EX.Rooms_Katholiek))\n",
    "ng1.add((EX.dutch, RDF.type, EX.nationality))\n",
    "ng1.add((anna, EX.has_nationality, EX.dutch))\n",
    "ng1.add((EX.gymnasium, RDF.type, EX.education))\n",
    "ng1.add((anna, EX.has_education, EX.gymnasium))\n",
    "ng1.add((EX.Beeldende_kunsten_en_vormgeving, RDF.type, EX.education))\n",
    "ng1.add((anna, EX.has_education, EX.Beeldende_kunsten_en_vormgeving))\n",
    "ng1.add((EX.Nederlands_recht, RDF.type, EX.education))\n",
    "ng1.add((anna, EX.has_education, EX.Nederlands_recht))"
   ]
  },
  {
   "cell_type": "code",
   "execution_count": 7,
   "id": "ba41ed37-7941-4ef5-a032-6aae25c747d8",
   "metadata": {
    "tags": []
   },
   "outputs": [
    {
     "data": {
      "text/plain": [
       "<Graph identifier=N1612c3679f5a48f39e0b2daaf287580f (<class 'rdflib.graph.Graph'>)>"
      ]
     },
     "execution_count": 7,
     "metadata": {},
     "output_type": "execute_result"
    }
   ],
   "source": [
    "ng2 = Graph()\n",
    "\n",
    "ng2.add((anna, RDF.type, FOAF.Person))\n",
    "ng1.add((EX.dutch, RDF.type, EX.nationality))\n",
    "ng2.add((anna, EX.has_nationality, EX.dutch))\n",
    "ng2.add((EX.Beeldende_kunsten_en_vormgeving, RDF.type, EX.education))\n",
    "ng2.add((anna, EX.has_education, EX.Beeldende_kunsten_en_vormgeving))\n",
    "ng1.add((EX.Den_Haag, RDF.type, EX.Residence))\n",
    "ng1.add((anna, EX.has_residence, EX.Den_Haag))"
   ]
  },
  {
   "cell_type": "code",
   "execution_count": 16,
   "id": "8ffe8321-3ef6-4fe1-a918-965ef84a7b1b",
   "metadata": {
    "tags": []
   },
   "outputs": [
    {
     "data": {
      "text/plain": [
       "<Graph identifier=N9e745b9b0e7e4d6582008759aa4e67e7 (<class 'rdflib.graph.Graph'>)>"
      ]
     },
     "execution_count": 16,
     "metadata": {},
     "output_type": "execute_result"
    }
   ],
   "source": [
    "ng3 = Graph()\n",
    "\n",
    "ng3.add((anna, RDF.type, FOAF.Person))"
   ]
  },
  {
   "cell_type": "code",
   "execution_count": 17,
   "id": "223e4f8b-5504-40f5-9c97-8b1e9360602d",
   "metadata": {
    "tags": []
   },
   "outputs": [
    {
     "data": {
      "text/plain": [
       "<Graph identifier=N5d4f80103b724356835ad58112bc693c (<class 'rdflib.graph.Graph'>)>"
      ]
     },
     "execution_count": 17,
     "metadata": {},
     "output_type": "execute_result"
    }
   ],
   "source": [
    "ng4 = Graph()\n",
    "\n",
    "ng4.add((anna, RDF.type, FOAF.Person))"
   ]
  },
  {
   "cell_type": "code",
   "execution_count": 18,
   "id": "eab4fd83-8625-44ee-bf61-9add31ca923d",
   "metadata": {
    "tags": []
   },
   "outputs": [
    {
     "data": {
      "text/plain": [
       "<Graph identifier=N8c4350b18a1d44e28712e0ccca22a680 (<class 'rdflib.graph.Graph'>)>"
      ]
     },
     "execution_count": 18,
     "metadata": {},
     "output_type": "execute_result"
    }
   ],
   "source": [
    "ng5 = Graph()\n",
    "\n",
    "ng5.add((anna, RDF.type, FOAF.Person))"
   ]
  },
  {
   "cell_type": "code",
   "execution_count": 19,
   "id": "e293a247-49bd-493a-be64-5d42499664db",
   "metadata": {
    "tags": []
   },
   "outputs": [
    {
     "data": {
      "text/plain": [
       "<Graph identifier=Nf10cd1727ea14713b6837b7d656bb8f7 (<class 'rdflib.graph.Graph'>)>"
      ]
     },
     "execution_count": 19,
     "metadata": {},
     "output_type": "execute_result"
    }
   ],
   "source": [
    "ng6 = Graph()\n",
    "\n",
    "ng6.add((anna, RDF.type, FOAF.Person))"
   ]
  },
  {
   "cell_type": "code",
   "execution_count": 20,
   "id": "408f9c51-7003-4929-acc2-cf250af8aaa3",
   "metadata": {
    "tags": []
   },
   "outputs": [
    {
     "data": {
      "text/plain": [
       "<Graph identifier=Nc8e5fa24cfba48f389e023efa280114c (<class 'rdflib.graph.Graph'>)>"
      ]
     },
     "execution_count": 20,
     "metadata": {},
     "output_type": "execute_result"
    }
   ],
   "source": [
    "ng7 = Graph()\n",
    "\n",
    "ng7. add((anna, RDF.type, FOAF.Person))"
   ]
  },
  {
   "cell_type": "code",
   "execution_count": null,
   "id": "13d53cd5-53f9-4174-bc20-826fe95a98ad",
   "metadata": {},
   "outputs": [],
   "source": []
  }
 ],
 "metadata": {
  "kernelspec": {
   "display_name": "Python 3 (ipykernel)",
   "language": "python",
   "name": "python3"
  },
  "language_info": {
   "codemirror_mode": {
    "name": "ipython",
    "version": 3
   },
   "file_extension": ".py",
   "mimetype": "text/x-python",
   "name": "python",
   "nbconvert_exporter": "python",
   "pygments_lexer": "ipython3",
   "version": "3.11.1"
  }
 },
 "nbformat": 4,
 "nbformat_minor": 5
}
