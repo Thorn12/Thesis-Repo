{
 "cells": [
  {
   "cell_type": "markdown",
   "id": "e8975284-b748-4011-a553-bbf8c909798f",
   "metadata": {},
   "source": [
    "Named graphs programs"
   ]
  },
  {
   "cell_type": "code",
   "execution_count": 15,
   "id": "9efcfb71-84a0-4803-87e4-04c00af0a858",
   "metadata": {
    "tags": []
   },
   "outputs": [
    {
     "name": "stdout",
     "output_type": "stream",
     "text": [
      "Requirement already satisfied: rdflib in c:\\users\\cjtya\\appdata\\local\\programs\\python\\python311\\lib\\site-packages (6.3.2)\n",
      "Requirement already satisfied: isodate<0.7.0,>=0.6.0 in c:\\users\\cjtya\\appdata\\local\\programs\\python\\python311\\lib\\site-packages (from rdflib) (0.6.1)\n",
      "Requirement already satisfied: pyparsing<4,>=2.1.0 in c:\\users\\cjtya\\appdata\\local\\programs\\python\\python311\\lib\\site-packages (from rdflib) (3.0.9)\n",
      "Requirement already satisfied: six in c:\\users\\cjtya\\appdata\\local\\programs\\python\\python311\\lib\\site-packages (from isodate<0.7.0,>=0.6.0->rdflib) (1.16.0)\n",
      "Note: you may need to restart the kernel to use updated packages.\n"
     ]
    }
   ],
   "source": [
    "pip install rdflib"
   ]
  },
  {
   "cell_type": "code",
   "execution_count": 16,
   "id": "328685c4-59e8-419c-b6bc-0f9496f9a898",
   "metadata": {
    "tags": []
   },
   "outputs": [],
   "source": [
    "from rdflib import URIRef, BNode, Literal, Namespace, Graph\n",
    "from rdflib.namespace import FOAF, DCTERMS, XSD, RDF, RDFS, SDO\n",
    "import pprint"
   ]
  },
  {
   "cell_type": "code",
   "execution_count": 17,
   "id": "9e623ba3-65a9-4ec8-8dd9-5ec9cbecbd5a",
   "metadata": {
    "tags": []
   },
   "outputs": [
    {
     "data": {
      "text/plain": [
       "<Graph identifier=N2fd5bc6b48c140e081804bbbed5885c8 (<class 'rdflib.graph.Graph'>)>"
      ]
     },
     "execution_count": 17,
     "metadata": {},
     "output_type": "execute_result"
    }
   ],
   "source": [
    "#create a graph for the knowledge graph, for other knowledge graphs paste the file location and name within the parse function\n",
    "g = Graph()\n",
    "g.parse(\"D:\\\\Downloads\\\\AnnaTest.ttl\")\n",
    "\n",
    "#for stmt in g:\n",
    "#    pprint.pprint(stmt)"
   ]
  },
  {
   "cell_type": "code",
   "execution_count": 18,
   "id": "e6953ea9-50c3-446d-8843-01dbfbacdb84",
   "metadata": {
    "tags": []
   },
   "outputs": [],
   "source": [
    "# returns all proxies for a provided person\n",
    "def linkedProxies(ProvidedPerson, g):\n",
    "    query = \"\"\"\n",
    "    PREFIX rdf: <http://www.w3.org/1999/02/22-rdf-syntax-ns#>\n",
    "    PREFIX ns2: <http://data.biographynet.nl/rdf/>\n",
    "    PREFIX idm: <http://www.intavia.eu/idm-core/>\n",
    "    select distinct ?s\n",
    "    where { \n",
    "        ?s idm:person_proxy_for <%s> .\n",
    "    }\n",
    "    \"\"\" % ProvidedPerson\n",
    "    \n",
    "    proxies = g.query(query)\n",
    "    return proxies"
   ]
  },
  {
   "cell_type": "code",
   "execution_count": 19,
   "id": "9db12006-fd95-4700-8748-39c00be71ce3",
   "metadata": {
    "tags": []
   },
   "outputs": [],
   "source": [
    "# returns biodes source for a proxy\n",
    "def findSource(Proxy, g):\n",
    "    query = \"\"\"\n",
    "    PREFIX rdf: <http://www.w3.org/1999/02/22-rdf-syntax-ns#>\n",
    "    PREFIX ns2: <http://data.biographynet.nl/rdf/>\n",
    "    PREFIX idm: <http://www.intavia.eu/idm-core/>\n",
    "    PREFIX ore: <http://www.openarchives.org/ore/terms/>\n",
    "    select ?biodes\n",
    "    where { \n",
    "        <%s> ore:proxyIn ?biodes .\n",
    "    }\n",
    "    \"\"\" % Proxy\n",
    "    \n",
    "    Biodes = g.query(query)\n",
    "    for stmt in  Biodes:\n",
    "        return(stmt.biodes)"
   ]
  },
  {
   "cell_type": "code",
   "execution_count": 20,
   "id": "f263d8b0-32c3-4ba6-8201-c683834f61c8",
   "metadata": {
    "tags": []
   },
   "outputs": [],
   "source": [
    "#returns all triples connected to proxy to depth of 2\n",
    "def allTriples(Proxy, g): \n",
    "    # create a graph for a description\n",
    "    # add all triples with subject that matches the description\n",
    "    new_graph = Graph()\n",
    "    new_graph += g.triples((Proxy, None, None))\n",
    "    for stmt in g.triples((Proxy, None, None)):\n",
    "        subject = stmt[2]\n",
    "        new_graph += g.triples((subject, None, None))\n",
    "    return new_graph"
   ]
  },
  {
   "cell_type": "code",
   "execution_count": 21,
   "id": "c24a37c6-6e6f-41e6-bb79-93d44cf9759d",
   "metadata": {
    "tags": []
   },
   "outputs": [],
   "source": [
    "#for triples with proxy as subject, we can now use the actual person\n",
    "def replaceProxyByPerson(triple, Person, Proxy):\n",
    "    s, p, o = triple\n",
    "    if s == Proxy:\n",
    "        s = Person\n",
    "    return s, p, o"
   ]
  },
  {
   "cell_type": "code",
   "execution_count": 40,
   "id": "78ede1ac-cfca-4e4e-8f16-5f0caa8fd039",
   "metadata": {
    "tags": []
   },
   "outputs": [],
   "source": [
    "def create_filename(proxy):\n",
    "    firstsplit = str(proxy).split('/')\n",
    "    str_proxy_number = str(firstsplit[4])\n",
    "    file_name = 'D:\\\\' + str_proxy_number + '_named_graph.trig'\n",
    "    return file_name"
   ]
  },
  {
   "cell_type": "code",
   "execution_count": 46,
   "id": "86afe4d2-b85e-439b-b8c4-f31afaf6d2d9",
   "metadata": {
    "tags": []
   },
   "outputs": [],
   "source": [
    "# for one provided person, write all rdf statements into a named graph\n",
    "def PersonToNG(ProvidedPerson, g):\n",
    "    for row in linkedProxies(ProvidedPerson, g):\n",
    "        Proxy = row['s']\n",
    "        Source = findSource(Proxy, g)\n",
    "        named_graph = Graph()\n",
    "        #addTripleToMainGraph(g ex:saidBy Source)\n",
    "        all_triples = allTriples(Proxy, g)\n",
    "        for triple in all_triples:\n",
    "            s, p, o = replaceProxyByPerson(triple, ProvidedPerson, Proxy)\n",
    "            named_graph.add((s, p, o))\n",
    "        file_name = create_filename(Proxy)\n",
    "        named_graph.serialize(destination=file_name, format = 'trig')"
   ]
  },
  {
   "cell_type": "code",
   "execution_count": 47,
   "id": "eb78d817-1581-468c-bdb7-9d2d5d061393",
   "metadata": {
    "tags": []
   },
   "outputs": [],
   "source": [
    "#make a query to find all the persons in the knowledge graph\n",
    "def find_persons(g):\n",
    "    query = \"\"\"\n",
    "    PREFIX rdf: <http://www.w3.org/1999/02/22-rdf-syntax-ns#>\n",
    "    PREFIX ns2: <http://data.biographynet.nl/rdf/>\n",
    "    PREFIX idm: <http://www.intavia.eu/idm-core/>\n",
    "    select distinct ?person\n",
    "    where { \n",
    "        ?person rdf:type idm:Provided_Person .\n",
    "    }\n",
    "    \"\"\"\n",
    "\n",
    "    persons = g.query(query)\n",
    "    return persons"
   ]
  },
  {
   "cell_type": "code",
   "execution_count": 48,
   "id": "79a8f561-9d2c-4ec5-9197-013c7ba78c25",
   "metadata": {
    "tags": []
   },
   "outputs": [],
   "source": [
    "Persons = find_persons(g)\n",
    "for row in Persons:\n",
    "    Person = row['person']\n",
    "    PersonToNG(Person, g)"
   ]
  },
  {
   "cell_type": "code",
   "execution_count": null,
   "id": "36d2d323-3f2c-4dfe-b710-ba34ede094f1",
   "metadata": {},
   "outputs": [],
   "source": []
  }
 ],
 "metadata": {
  "kernelspec": {
   "display_name": "Python 3 (ipykernel)",
   "language": "python",
   "name": "python3"
  },
  "language_info": {
   "codemirror_mode": {
    "name": "ipython",
    "version": 3
   },
   "file_extension": ".py",
   "mimetype": "text/x-python",
   "name": "python",
   "nbconvert_exporter": "python",
   "pygments_lexer": "ipython3",
   "version": "3.11.1"
  }
 },
 "nbformat": 4,
 "nbformat_minor": 5
}
