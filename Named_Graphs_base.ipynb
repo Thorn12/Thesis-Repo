{
 "cells": [
  {
   "cell_type": "markdown",
   "id": "e8975284-b748-4011-a553-bbf8c909798f",
   "metadata": {},
   "source": [
    "Named graphs programs"
   ]
  },
  {
   "cell_type": "code",
   "execution_count": 14,
   "id": "9efcfb71-84a0-4803-87e4-04c00af0a858",
   "metadata": {
    "tags": []
   },
   "outputs": [
    {
     "name": "stdout",
     "output_type": "stream",
     "text": [
      "Requirement already satisfied: rdflib in c:\\users\\cjtya\\appdata\\local\\programs\\python\\python311\\lib\\site-packages (6.3.2)\n",
      "Requirement already satisfied: isodate<0.7.0,>=0.6.0 in c:\\users\\cjtya\\appdata\\local\\programs\\python\\python311\\lib\\site-packages (from rdflib) (0.6.1)\n",
      "Requirement already satisfied: pyparsing<4,>=2.1.0 in c:\\users\\cjtya\\appdata\\local\\programs\\python\\python311\\lib\\site-packages (from rdflib) (3.0.9)\n",
      "Requirement already satisfied: six in c:\\users\\cjtya\\appdata\\local\\programs\\python\\python311\\lib\\site-packages (from isodate<0.7.0,>=0.6.0->rdflib) (1.16.0)\n",
      "Note: you may need to restart the kernel to use updated packages.\n"
     ]
    },
    {
     "name": "stderr",
     "output_type": "stream",
     "text": [
      "\n",
      "[notice] A new release of pip is available: 23.2 -> 23.2.1\n",
      "[notice] To update, run: python.exe -m pip install --upgrade pip\n"
     ]
    }
   ],
   "source": [
    "pip install rdflib"
   ]
  },
  {
   "cell_type": "code",
   "execution_count": 15,
   "id": "328685c4-59e8-419c-b6bc-0f9496f9a898",
   "metadata": {
    "tags": []
   },
   "outputs": [],
   "source": [
    "from rdflib import URIRef, BNode, Literal, Namespace, Graph\n",
    "from rdflib.namespace import FOAF, DCTERMS, XSD, RDF, RDFS, SDO\n",
    "import pprint\n",
    "import os"
   ]
  },
  {
   "cell_type": "code",
   "execution_count": 16,
   "id": "e6953ea9-50c3-446d-8843-01dbfbacdb84",
   "metadata": {
    "tags": []
   },
   "outputs": [],
   "source": [
    "# returns all proxies for a provided person\n",
    "def linkedProxies(ProvidedPerson, g):\n",
    "    query = \"\"\"\n",
    "    PREFIX rdf: <http://www.w3.org/1999/02/22-rdf-syntax-ns#>\n",
    "    PREFIX ns2: <http://data.biographynet.nl/rdf/>\n",
    "    PREFIX idm: <http://www.intavia.eu/idm-core/>\n",
    "    select distinct ?s\n",
    "    where { \n",
    "        ?s idm:person_proxy_for <%s> .\n",
    "    }\n",
    "    \"\"\" % ProvidedPerson\n",
    "    \n",
    "    proxies = g.query(query)\n",
    "    return proxies"
   ]
  },
  {
   "cell_type": "code",
   "execution_count": 17,
   "id": "9db12006-fd95-4700-8748-39c00be71ce3",
   "metadata": {
    "tags": []
   },
   "outputs": [],
   "source": [
    "# returns biodes source for a proxy\n",
    "def findSource(Proxy, g):\n",
    "    query = \"\"\"\n",
    "    PREFIX rdf: <http://www.w3.org/1999/02/22-rdf-syntax-ns#>\n",
    "    PREFIX ns2: <http://data.biographynet.nl/rdf/>\n",
    "    PREFIX idm: <http://www.intavia.eu/idm-core/>\n",
    "    PREFIX ore: <http://www.openarchives.org/ore/terms/>\n",
    "    select ?biodes\n",
    "    where { \n",
    "        <%s> ore:proxyIn ?biodes .\n",
    "    }\n",
    "    \"\"\" % Proxy\n",
    "    \n",
    "    Biodes = g.query(query)\n",
    "    for stmt in  Biodes:\n",
    "        return(stmt.biodes)"
   ]
  },
  {
   "cell_type": "code",
   "execution_count": 18,
   "id": "f263d8b0-32c3-4ba6-8201-c683834f61c8",
   "metadata": {
    "tags": []
   },
   "outputs": [],
   "source": [
    "#returns all triples connected to proxy to depth of 2\n",
    "def allTriples(Proxy, g): \n",
    "    # create a graph for a description\n",
    "    # add all triples with subject that matches the description\n",
    "    new_graph = Graph()\n",
    "    new_graph += g.triples((Proxy, None, None))\n",
    "    for stmt in g.triples((Proxy, None, None)):\n",
    "        subject = stmt[2]\n",
    "        new_graph += g.triples((subject, None, None))\n",
    "    return new_graph"
   ]
  },
  {
   "cell_type": "code",
   "execution_count": 19,
   "id": "c24a37c6-6e6f-41e6-bb79-93d44cf9759d",
   "metadata": {
    "tags": []
   },
   "outputs": [],
   "source": [
    "#for triples with proxy as subject, we can now use the actual person\n",
    "def replaceProxyByPerson(triple, Person, Proxy):\n",
    "    s, p, o = triple\n",
    "    if s == Proxy:\n",
    "        s = Person\n",
    "    return s, p, o"
   ]
  },
  {
   "cell_type": "code",
   "execution_count": 55,
   "id": "b68e57ac-f398-4349-9327-e72bd0fc96af",
   "metadata": {
    "tags": []
   },
   "outputs": [],
   "source": [
    "def deleteNewLine(s, p, o):\n",
    "    if type(o) == Literal and \"\\n\" in o:\n",
    "        o = o.replace(\"\\n\", \"\")\n",
    "        o = Literal(o)\n",
    "    return s, p, o"
   ]
  },
  {
   "cell_type": "code",
   "execution_count": 56,
   "id": "78ede1ac-cfca-4e4e-8f16-5f0caa8fd039",
   "metadata": {
    "tags": []
   },
   "outputs": [],
   "source": [
    "def create_graph_uri(uri):\n",
    "    firstsplit = str(uri).split('/')\n",
    "    str_uri_number = str(firstsplit[4])\n",
    "    uri = 'http://example.org/' + str_uri_number\n",
    "    return uri"
   ]
  },
  {
   "cell_type": "code",
   "execution_count": 57,
   "id": "785b4fb1-957c-4a52-947b-d7f1d4faa650",
   "metadata": {
    "tags": []
   },
   "outputs": [],
   "source": [
    "def create_named_graph_filename(Proxy):\n",
    "    firstsplit = str(Proxy).split('/')\n",
    "    str_proxy_number = str(firstsplit[4])\n",
    "    file_named_graph_name = str_proxy_number + '_named_graph.trig'\n",
    "    return file_named_graph_name"
   ]
  },
  {
   "cell_type": "code",
   "execution_count": 58,
   "id": "c61b540a-6e51-47ad-b25f-fa4cdbe3b733",
   "metadata": {},
   "outputs": [],
   "source": [
    "def create_main_filename(Person):\n",
    "    firstsplit = str(Person).split('/')\n",
    "    str_person_number = str(firstsplit[4])\n",
    "    file_main_name = str_person_number + '_main_graph.trig'\n",
    "    return file_main_name"
   ]
  },
  {
   "cell_type": "code",
   "execution_count": 59,
   "id": "86afe4d2-b85e-439b-b8c4-f31afaf6d2d9",
   "metadata": {
    "tags": []
   },
   "outputs": [],
   "source": [
    "# for one provided person, write all rdf statements into a named graph\n",
    "def PersonToNG(ProvidedPerson, g, main_graph, path):\n",
    "    for row in linkedProxies(ProvidedPerson, g):\n",
    "        Proxy = row['s']\n",
    "        graph_uri = URIRef(create_graph_uri(Proxy))\n",
    "        new_graph = Graph(identifier=graph_uri)\n",
    "        Source = findSource(Proxy, g)\n",
    "        main_graph.add((graph_uri, URIRef('https://www.w3.org/TR/prov-o/#wasDerivedFrom'), Source))\n",
    "        all_triples = allTriples(Proxy, g)\n",
    "        for triple in all_triples:\n",
    "            if triple[0] == Source:\n",
    "                main_graph.add((triple))\n",
    "            else:\n",
    "                s, p, o = replaceProxyByPerson(triple, ProvidedPerson, Proxy)\n",
    "                s, p, o = deleteNewLine(s, p, o)\n",
    "                new_graph.add((s, p, o))\n",
    "        file_named_graph_name = os.path.join(path, create_named_graph_filename(Proxy))\n",
    "        new_graph.serialize(destination=file_named_graph_name, format = 'trig')\n",
    "    file_main_name = os.path.join(path, create_main_filename(ProvidedPerson))\n",
    "    main_graph.serialize(destination=file_main_name, format = 'trig')"
   ]
  },
  {
   "cell_type": "code",
   "execution_count": 60,
   "id": "eb78d817-1581-468c-bdb7-9d2d5d061393",
   "metadata": {
    "tags": []
   },
   "outputs": [],
   "source": [
    "#make a query to find all the persons in the knowledge graph\n",
    "def find_persons(g):\n",
    "    query = \"\"\"\n",
    "    PREFIX rdf: <http://www.w3.org/1999/02/22-rdf-syntax-ns#>\n",
    "    PREFIX ns2: <http://data.biographynet.nl/rdf/>\n",
    "    PREFIX idm: <http://www.intavia.eu/idm-core/>\n",
    "    select distinct ?person\n",
    "    where { \n",
    "        ?person rdf:type idm:Provided_Person .\n",
    "    }\n",
    "    \"\"\"\n",
    "\n",
    "    persons = g.query(query)\n",
    "    return persons"
   ]
  },
  {
   "cell_type": "code",
   "execution_count": 61,
   "id": "79a8f561-9d2c-4ec5-9197-013c7ba78c25",
   "metadata": {
    "tags": []
   },
   "outputs": [],
   "source": [
    "def iterate_through_folder(folder_path, path):\n",
    "    for root, dirs, files in os.walk(folder_path):\n",
    "        for file_name in files:\n",
    "            file_path = os.path.join(root, file_name)\n",
    "            #new_file_name = file_name.split('.')[0] + '.ttls'\n",
    "            #create a graph for the knowledge graph, for other knowledge graphs paste the file location and name within the parse function\n",
    "            g = Graph()\n",
    "            g.parse(file_path)\n",
    "            Persons = find_persons(g)\n",
    "            for row in Persons:\n",
    "                Person = row['person']\n",
    "                Person_uri = create_graph_uri(Person)\n",
    "                main_graph = Graph(identifier=Person_uri)\n",
    "                PersonToNG(Person, g, main_graph, path)"
   ]
  },
  {
   "cell_type": "code",
   "execution_count": 62,
   "id": "3f8fdb89-2baa-4f44-949c-8a73604e4da4",
   "metadata": {},
   "outputs": [
    {
     "name": "stdout",
     "output_type": "stream",
     "text": [
      "Folder D:\\bioport_xml_batch_15_named_graphs already exists\n"
     ]
    },
    {
     "name": "stderr",
     "output_type": "stream",
     "text": [
      "Failed to convert Literal lexical form to value. Datatype=http://www.w3.org/2001/XMLSchema#date, Converter=<function parse_date at 0x000002B29F8DDB20>\n",
      "Traceback (most recent call last):\n",
      "  File \"C:\\Users\\cjtya\\AppData\\Local\\Programs\\Python\\Python311\\Lib\\site-packages\\rdflib\\term.py\", line 2084, in _castLexicalToPython\n",
      "    return conv_func(lexical)  # type: ignore[arg-type]\n",
      "           ^^^^^^^^^^^^^^^^^^\n",
      "  File \"C:\\Users\\cjtya\\AppData\\Local\\Programs\\Python\\Python311\\Lib\\site-packages\\isodate\\isodates.py\", line 181, in parse_date\n",
      "    ret = date(sign * int(groups['year']), 1, 1)\n",
      "          ^^^^^^^^^^^^^^^^^^^^^^^^^^^^^^^^^^^^^^\n",
      "ValueError: year 0 is out of range\n",
      "Failed to convert Literal lexical form to value. Datatype=http://www.w3.org/2001/XMLSchema#date, Converter=<function parse_date at 0x000002B29F8DDB20>\n",
      "Traceback (most recent call last):\n",
      "  File \"C:\\Users\\cjtya\\AppData\\Local\\Programs\\Python\\Python311\\Lib\\site-packages\\rdflib\\term.py\", line 2084, in _castLexicalToPython\n",
      "    return conv_func(lexical)  # type: ignore[arg-type]\n",
      "           ^^^^^^^^^^^^^^^^^^\n",
      "  File \"C:\\Users\\cjtya\\AppData\\Local\\Programs\\Python\\Python311\\Lib\\site-packages\\isodate\\isodates.py\", line 181, in parse_date\n",
      "    ret = date(sign * int(groups['year']), 1, 1)\n",
      "          ^^^^^^^^^^^^^^^^^^^^^^^^^^^^^^^^^^^^^^\n",
      "ValueError: year 0 is out of range\n",
      "Failed to convert Literal lexical form to value. Datatype=http://www.w3.org/2001/XMLSchema#date, Converter=<function parse_date at 0x000002B29F8DDB20>\n",
      "Traceback (most recent call last):\n",
      "  File \"C:\\Users\\cjtya\\AppData\\Local\\Programs\\Python\\Python311\\Lib\\site-packages\\rdflib\\term.py\", line 2084, in _castLexicalToPython\n",
      "    return conv_func(lexical)  # type: ignore[arg-type]\n",
      "           ^^^^^^^^^^^^^^^^^^\n",
      "  File \"C:\\Users\\cjtya\\AppData\\Local\\Programs\\Python\\Python311\\Lib\\site-packages\\isodate\\isodates.py\", line 181, in parse_date\n",
      "    ret = date(sign * int(groups['year']), 1, 1)\n",
      "          ^^^^^^^^^^^^^^^^^^^^^^^^^^^^^^^^^^^^^^\n",
      "ValueError: year 0 is out of range\n",
      "Failed to convert Literal lexical form to value. Datatype=http://www.w3.org/2001/XMLSchema#date, Converter=<function parse_date at 0x000002B29F8DDB20>\n",
      "Traceback (most recent call last):\n",
      "  File \"C:\\Users\\cjtya\\AppData\\Local\\Programs\\Python\\Python311\\Lib\\site-packages\\rdflib\\term.py\", line 2084, in _castLexicalToPython\n",
      "    return conv_func(lexical)  # type: ignore[arg-type]\n",
      "           ^^^^^^^^^^^^^^^^^^\n",
      "  File \"C:\\Users\\cjtya\\AppData\\Local\\Programs\\Python\\Python311\\Lib\\site-packages\\isodate\\isodates.py\", line 181, in parse_date\n",
      "    ret = date(sign * int(groups['year']), 1, 1)\n",
      "          ^^^^^^^^^^^^^^^^^^^^^^^^^^^^^^^^^^^^^^\n",
      "ValueError: year 0 is out of range\n",
      "Failed to convert Literal lexical form to value. Datatype=http://www.w3.org/2001/XMLSchema#date, Converter=<function parse_date at 0x000002B29F8DDB20>\n",
      "Traceback (most recent call last):\n",
      "  File \"C:\\Users\\cjtya\\AppData\\Local\\Programs\\Python\\Python311\\Lib\\site-packages\\rdflib\\term.py\", line 2084, in _castLexicalToPython\n",
      "    return conv_func(lexical)  # type: ignore[arg-type]\n",
      "           ^^^^^^^^^^^^^^^^^^\n",
      "  File \"C:\\Users\\cjtya\\AppData\\Local\\Programs\\Python\\Python311\\Lib\\site-packages\\isodate\\isodates.py\", line 201, in parse_date\n",
      "    return date(sign * int(groups['year']),\n",
      "           ^^^^^^^^^^^^^^^^^^^^^^^^^^^^^^^^\n",
      "ValueError: day is out of range for month\n",
      "Failed to convert Literal lexical form to value. Datatype=http://www.w3.org/2001/XMLSchema#date, Converter=<function parse_date at 0x000002B29F8DDB20>\n",
      "Traceback (most recent call last):\n",
      "  File \"C:\\Users\\cjtya\\AppData\\Local\\Programs\\Python\\Python311\\Lib\\site-packages\\rdflib\\term.py\", line 2084, in _castLexicalToPython\n",
      "    return conv_func(lexical)  # type: ignore[arg-type]\n",
      "           ^^^^^^^^^^^^^^^^^^\n",
      "  File \"C:\\Users\\cjtya\\AppData\\Local\\Programs\\Python\\Python311\\Lib\\site-packages\\isodate\\isodates.py\", line 201, in parse_date\n",
      "    return date(sign * int(groups['year']),\n",
      "           ^^^^^^^^^^^^^^^^^^^^^^^^^^^^^^^^\n",
      "ValueError: day is out of range for month\n",
      "Failed to convert Literal lexical form to value. Datatype=http://www.w3.org/2001/XMLSchema#date, Converter=<function parse_date at 0x000002B29F8DDB20>\n",
      "Traceback (most recent call last):\n",
      "  File \"C:\\Users\\cjtya\\AppData\\Local\\Programs\\Python\\Python311\\Lib\\site-packages\\rdflib\\term.py\", line 2084, in _castLexicalToPython\n",
      "    return conv_func(lexical)  # type: ignore[arg-type]\n",
      "           ^^^^^^^^^^^^^^^^^^\n",
      "  File \"C:\\Users\\cjtya\\AppData\\Local\\Programs\\Python\\Python311\\Lib\\site-packages\\isodate\\isodates.py\", line 201, in parse_date\n",
      "    return date(sign * int(groups['year']),\n",
      "           ^^^^^^^^^^^^^^^^^^^^^^^^^^^^^^^^\n",
      "ValueError: month must be in 1..12\n",
      "Failed to convert Literal lexical form to value. Datatype=http://www.w3.org/2001/XMLSchema#date, Converter=<function parse_date at 0x000002B29F8DDB20>\n",
      "Traceback (most recent call last):\n",
      "  File \"C:\\Users\\cjtya\\AppData\\Local\\Programs\\Python\\Python311\\Lib\\site-packages\\rdflib\\term.py\", line 2084, in _castLexicalToPython\n",
      "    return conv_func(lexical)  # type: ignore[arg-type]\n",
      "           ^^^^^^^^^^^^^^^^^^\n",
      "  File \"C:\\Users\\cjtya\\AppData\\Local\\Programs\\Python\\Python311\\Lib\\site-packages\\isodate\\isodates.py\", line 201, in parse_date\n",
      "    return date(sign * int(groups['year']),\n",
      "           ^^^^^^^^^^^^^^^^^^^^^^^^^^^^^^^^\n",
      "ValueError: month must be in 1..12\n",
      "Failed to convert Literal lexical form to value. Datatype=http://www.w3.org/2001/XMLSchema#date, Converter=<function parse_date at 0x000002B29F8DDB20>\n",
      "Traceback (most recent call last):\n",
      "  File \"C:\\Users\\cjtya\\AppData\\Local\\Programs\\Python\\Python311\\Lib\\site-packages\\rdflib\\term.py\", line 2084, in _castLexicalToPython\n",
      "    return conv_func(lexical)  # type: ignore[arg-type]\n",
      "           ^^^^^^^^^^^^^^^^^^\n",
      "  File \"C:\\Users\\cjtya\\AppData\\Local\\Programs\\Python\\Python311\\Lib\\site-packages\\isodate\\isodates.py\", line 201, in parse_date\n",
      "    return date(sign * int(groups['year']),\n",
      "           ^^^^^^^^^^^^^^^^^^^^^^^^^^^^^^^^\n",
      "ValueError: day is out of range for month\n",
      "Failed to convert Literal lexical form to value. Datatype=http://www.w3.org/2001/XMLSchema#date, Converter=<function parse_date at 0x000002B29F8DDB20>\n",
      "Traceback (most recent call last):\n",
      "  File \"C:\\Users\\cjtya\\AppData\\Local\\Programs\\Python\\Python311\\Lib\\site-packages\\rdflib\\term.py\", line 2084, in _castLexicalToPython\n",
      "    return conv_func(lexical)  # type: ignore[arg-type]\n",
      "           ^^^^^^^^^^^^^^^^^^\n",
      "  File \"C:\\Users\\cjtya\\AppData\\Local\\Programs\\Python\\Python311\\Lib\\site-packages\\isodate\\isodates.py\", line 203, in parse_date\n",
      "    raise ISO8601Error('Unrecognised ISO 8601 date format: %r' % datestring)\n",
      "isodate.isoerror.ISO8601Error: Unrecognised ISO 8601 date format: ' 1743'\n",
      "Failed to convert Literal lexical form to value. Datatype=http://www.w3.org/2001/XMLSchema#date, Converter=<function parse_date at 0x000002B29F8DDB20>\n",
      "Traceback (most recent call last):\n",
      "  File \"C:\\Users\\cjtya\\AppData\\Local\\Programs\\Python\\Python311\\Lib\\site-packages\\rdflib\\term.py\", line 2084, in _castLexicalToPython\n",
      "    return conv_func(lexical)  # type: ignore[arg-type]\n",
      "           ^^^^^^^^^^^^^^^^^^\n",
      "  File \"C:\\Users\\cjtya\\AppData\\Local\\Programs\\Python\\Python311\\Lib\\site-packages\\isodate\\isodates.py\", line 203, in parse_date\n",
      "    raise ISO8601Error('Unrecognised ISO 8601 date format: %r' % datestring)\n",
      "isodate.isoerror.ISO8601Error: Unrecognised ISO 8601 date format: ' 1743'\n",
      "Failed to convert Literal lexical form to value. Datatype=http://www.w3.org/2001/XMLSchema#date, Converter=<function parse_date at 0x000002B29F8DDB20>\n",
      "Traceback (most recent call last):\n",
      "  File \"C:\\Users\\cjtya\\AppData\\Local\\Programs\\Python\\Python311\\Lib\\site-packages\\rdflib\\term.py\", line 2084, in _castLexicalToPython\n",
      "    return conv_func(lexical)  # type: ignore[arg-type]\n",
      "           ^^^^^^^^^^^^^^^^^^\n",
      "  File \"C:\\Users\\cjtya\\AppData\\Local\\Programs\\Python\\Python311\\Lib\\site-packages\\isodate\\isodates.py\", line 201, in parse_date\n",
      "    return date(sign * int(groups['year']),\n",
      "           ^^^^^^^^^^^^^^^^^^^^^^^^^^^^^^^^\n",
      "ValueError: day is out of range for month\n",
      "Failed to convert Literal lexical form to value. Datatype=http://www.w3.org/2001/XMLSchema#date, Converter=<function parse_date at 0x000002B29F8DDB20>\n",
      "Traceback (most recent call last):\n",
      "  File \"C:\\Users\\cjtya\\AppData\\Local\\Programs\\Python\\Python311\\Lib\\site-packages\\rdflib\\term.py\", line 2084, in _castLexicalToPython\n",
      "    return conv_func(lexical)  # type: ignore[arg-type]\n",
      "           ^^^^^^^^^^^^^^^^^^\n",
      "  File \"C:\\Users\\cjtya\\AppData\\Local\\Programs\\Python\\Python311\\Lib\\site-packages\\isodate\\isodates.py\", line 201, in parse_date\n",
      "    return date(sign * int(groups['year']),\n",
      "           ^^^^^^^^^^^^^^^^^^^^^^^^^^^^^^^^\n",
      "ValueError: day is out of range for month\n"
     ]
    }
   ],
   "source": [
    "path = \"D:\\\\bioport_xml_batch_15_named_graphs\"\n",
    "if not os.path.exists(path):\n",
    "  os.mkdir(path)\n",
    "  print(\"Folder %s created!\" % path)\n",
    "else:\n",
    "  print(\"Folder %s already exists\" % path)\n",
    "folder_path = \"D:\\\\bioport_xml_batch_15\"\n",
    "iterate_through_folder(folder_path, path)"
   ]
  },
  {
   "cell_type": "code",
   "execution_count": null,
   "id": "4f366f2d-9de0-48ba-97f8-9a0a6e90deb1",
   "metadata": {},
   "outputs": [],
   "source": []
  },
  {
   "cell_type": "code",
   "execution_count": null,
   "id": "5a71ce90-06bd-48d9-9069-d29975bce7c3",
   "metadata": {},
   "outputs": [],
   "source": []
  }
 ],
 "metadata": {
  "kernelspec": {
   "display_name": "Python 3 (ipykernel)",
   "language": "python",
   "name": "python3"
  },
  "language_info": {
   "codemirror_mode": {
    "name": "ipython",
    "version": 3
   },
   "file_extension": ".py",
   "mimetype": "text/x-python",
   "name": "python",
   "nbconvert_exporter": "python",
   "pygments_lexer": "ipython3",
   "version": "3.11.1"
  }
 },
 "nbformat": 4,
 "nbformat_minor": 5
}
