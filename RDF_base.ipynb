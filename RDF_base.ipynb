{
 "cells": [
  {
   "cell_type": "markdown",
   "id": "121adcdb-69cf-4a3d-863e-ef4e1f35f0f6",
   "metadata": {},
   "source": [
    "RDF programs"
   ]
  },
  {
   "cell_type": "code",
   "execution_count": 10,
   "id": "43c1b52e-67bf-4142-9653-5b91a196fe6b",
   "metadata": {
    "tags": []
   },
   "outputs": [
    {
     "name": "stdout",
     "output_type": "stream",
     "text": [
      "Requirement already satisfied: rdflib in c:\\users\\cjtya\\appdata\\local\\programs\\python\\python311\\lib\\site-packages (6.3.2)\n",
      "Requirement already satisfied: isodate<0.7.0,>=0.6.0 in c:\\users\\cjtya\\appdata\\local\\programs\\python\\python311\\lib\\site-packages (from rdflib) (0.6.1)\n",
      "Requirement already satisfied: pyparsing<4,>=2.1.0 in c:\\users\\cjtya\\appdata\\local\\programs\\python\\python311\\lib\\site-packages (from rdflib) (3.0.9)\n",
      "Requirement already satisfied: six in c:\\users\\cjtya\\appdata\\local\\programs\\python\\python311\\lib\\site-packages (from isodate<0.7.0,>=0.6.0->rdflib) (1.16.0)\n",
      "Note: you may need to restart the kernel to use updated packages.\n"
     ]
    },
    {
     "name": "stderr",
     "output_type": "stream",
     "text": [
      "\n",
      "[notice] A new release of pip is available: 23.2 -> 23.2.1\n",
      "[notice] To update, run: python.exe -m pip install --upgrade pip\n"
     ]
    }
   ],
   "source": [
    "pip install rdflib"
   ]
  },
  {
   "cell_type": "code",
   "execution_count": 11,
   "id": "6d73e38f-6392-42fa-9a56-68903d988edb",
   "metadata": {
    "tags": []
   },
   "outputs": [],
   "source": [
    "from rdflib import URIRef, BNode, Literal, Namespace, Graph\n",
    "from rdflib.namespace import FOAF, DCTERMS, XSD, RDF, RDFS, SDO\n",
    "import pprint\n",
    "import os"
   ]
  },
  {
   "cell_type": "code",
   "execution_count": 12,
   "id": "17af8a56-4176-4ed8-a78b-08e7321e95e7",
   "metadata": {
    "tags": []
   },
   "outputs": [],
   "source": [
    "# returns all proxies for a provided person\n",
    "def linkedProxies(ProvidedPerson, g):\n",
    "    query = \"\"\"\n",
    "    PREFIX rdf: <http://www.w3.org/1999/02/22-rdf-syntax-ns#>\n",
    "    PREFIX ns2: <http://data.biographynet.nl/rdf/>\n",
    "    PREFIX idm: <http://www.intavia.eu/idm-core/>\n",
    "    select distinct ?s\n",
    "    where { \n",
    "        ?s idm:person_proxy_for <%s> .\n",
    "    }\n",
    "    \"\"\" % ProvidedPerson\n",
    "    \n",
    "    proxies = g.query(query)\n",
    "    return proxies"
   ]
  },
  {
   "cell_type": "code",
   "execution_count": 13,
   "id": "55827f33-01cb-4b25-a922-b174757853ab",
   "metadata": {
    "tags": []
   },
   "outputs": [],
   "source": [
    "#returns all triples connected to proxy to depth of 2\n",
    "def allTriples(Proxy, g): \n",
    "    # create a graph for a description\n",
    "    # add all triples with subject that matches the description\n",
    "    new_graph = Graph()\n",
    "    new_graph += g.triples((Proxy, None, None))\n",
    "    for stmt in g.triples((Proxy, None, None)):\n",
    "        subject = stmt[2]\n",
    "        new_graph += g.triples((subject, None, None))\n",
    "    return new_graph"
   ]
  },
  {
   "cell_type": "code",
   "execution_count": 14,
   "id": "68107342-7652-4ece-b3d1-d9db854b09b3",
   "metadata": {
    "tags": []
   },
   "outputs": [],
   "source": [
    "def deleteNewLine(s, p, o):\n",
    "    if type(o) == Literal and \"\\n\" in o:\n",
    "        o = o.replace(\"\\n\", \"\")\n",
    "        o = Literal(o)\n",
    "    return s, p, o"
   ]
  },
  {
   "cell_type": "code",
   "execution_count": 25,
   "id": "b4f6707f-f7bf-468a-8555-27804e4a860e",
   "metadata": {
    "tags": []
   },
   "outputs": [],
   "source": [
    "# for one provided person, write all rdf statements into a named graph\n",
    "def PersonToRDF(ProvidedPerson, g, new_g, path, new_file_path):\n",
    "    for row in linkedProxies(ProvidedPerson, g):\n",
    "        Proxy = row['s']\n",
    "        all_triples = allTriples(Proxy, g)\n",
    "        for triple in all_triples:\n",
    "            new_g.add(triple)\n",
    "    new_g.serialize(destination=new_file_path, format = 'trig')"
   ]
  },
  {
   "cell_type": "code",
   "execution_count": 26,
   "id": "f496a3c2-6d56-4f1c-b49a-85b4d175b1a0",
   "metadata": {
    "tags": []
   },
   "outputs": [],
   "source": [
    "#make a query to find all the persons in the knowledge graph\n",
    "def find_persons(g):\n",
    "    query = \"\"\"\n",
    "    PREFIX rdf: <http://www.w3.org/1999/02/22-rdf-syntax-ns#>\n",
    "    PREFIX ns2: <http://data.biographynet.nl/rdf/>\n",
    "    PREFIX idm: <http://www.intavia.eu/idm-core/>\n",
    "    select distinct ?person\n",
    "    where { \n",
    "        ?person rdf:type idm:Provided_Person .\n",
    "    }\n",
    "    \"\"\"\n",
    "\n",
    "    persons = g.query(query)\n",
    "    return persons"
   ]
  },
  {
   "cell_type": "code",
   "execution_count": 27,
   "id": "fbe35664-5af5-47fd-be31-c09ad58ce44a",
   "metadata": {
    "tags": []
   },
   "outputs": [],
   "source": [
    "def iterate_through_folder(folder_path, path):\n",
    "    for root, dirs, files in os.walk(folder_path):\n",
    "        for file_name in files:\n",
    "            file_path = os.path.join(root, file_name)\n",
    "            new_file_name = file_name.split('.')[0] + '.trig'\n",
    "            new_file_path = os.path.join(path, new_file_name)\n",
    "            #create a graph for the knowledge graph, for other knowledge graphs paste the file location and name within the parse function\n",
    "            g = Graph()\n",
    "            g.parse(file_path)\n",
    "            new_g = Graph()\n",
    "            Persons = find_persons(g)\n",
    "            for row in Persons:\n",
    "                Person = row['person']\n",
    "                PersonToRDF(Person, g, new_g, path, new_file_path)"
   ]
  },
  {
   "cell_type": "code",
   "execution_count": 28,
   "id": "a321a702-ae00-4680-9b59-a6c22e841790",
   "metadata": {
    "tags": []
   },
   "outputs": [
    {
     "name": "stdout",
     "output_type": "stream",
     "text": [
      "Folder D:\\bioport_xml_batch_15_10_rdf_graphs already exists\n"
     ]
    },
    {
     "name": "stderr",
     "output_type": "stream",
     "text": [
      "Failed to convert Literal lexical form to value. Datatype=http://www.w3.org/2001/XMLSchema#date, Converter=<function parse_date at 0x00000217E8045A80>\n",
      "Traceback (most recent call last):\n",
      "  File \"C:\\Users\\cjtya\\AppData\\Local\\Programs\\Python\\Python311\\Lib\\site-packages\\rdflib\\term.py\", line 2084, in _castLexicalToPython\n",
      "    return conv_func(lexical)  # type: ignore[arg-type]\n",
      "           ^^^^^^^^^^^^^^^^^^\n",
      "  File \"C:\\Users\\cjtya\\AppData\\Local\\Programs\\Python\\Python311\\Lib\\site-packages\\isodate\\isodates.py\", line 201, in parse_date\n",
      "    return date(sign * int(groups['year']),\n",
      "           ^^^^^^^^^^^^^^^^^^^^^^^^^^^^^^^^\n",
      "ValueError: month must be in 1..12\n"
     ]
    }
   ],
   "source": [
    "path = \"D:\\\\bioport_xml_batch_15_10_rdf_graphs\"\n",
    "if not os.path.exists(path):\n",
    "  os.mkdir(path)\n",
    "  print(\"Folder %s created!\" % path)\n",
    "else:\n",
    "  print(\"Folder %s already exists\" % path)\n",
    "folder_path = \"D:\\\\bioport_xml_batch_15_10_graphs\"\n",
    "iterate_through_folder(folder_path, path)"
   ]
  },
  {
   "cell_type": "code",
   "execution_count": null,
   "id": "f334ea3c-38be-4fbf-99e1-c5f75a508417",
   "metadata": {},
   "outputs": [],
   "source": []
  }
 ],
 "metadata": {
  "kernelspec": {
   "display_name": "Python 3 (ipykernel)",
   "language": "python",
   "name": "python3"
  },
  "language_info": {
   "codemirror_mode": {
    "name": "ipython",
    "version": 3
   },
   "file_extension": ".py",
   "mimetype": "text/x-python",
   "name": "python",
   "nbconvert_exporter": "python",
   "pygments_lexer": "ipython3",
   "version": "3.11.1"
  }
 },
 "nbformat": 4,
 "nbformat_minor": 5
}
